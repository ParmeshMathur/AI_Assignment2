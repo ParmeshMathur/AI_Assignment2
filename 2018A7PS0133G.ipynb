{
 "cells": [
  {
   "cell_type": "code",
   "execution_count": 1,
   "metadata": {},
   "outputs": [],
   "source": [
    "# from maincode import Connect4Board\n",
    "from random import randint"
   ]
  },
  {
   "cell_type": "code",
   "execution_count": 19,
   "metadata": {},
   "outputs": [],
   "source": [
    "from maincode import Connect4Board"
   ]
  },
  {
   "cell_type": "code",
   "execution_count": 62,
   "metadata": {},
   "outputs": [
    {
     "name": "stdout",
     "output_type": "stream",
     "text": [
      "\n",
      "000000000000000000000000000000\n"
     ]
    },
    {
     "ename": "KeyboardInterrupt",
     "evalue": "",
     "output_type": "error",
     "traceback": [
      "\u001b[1;31m---------------------------------------------------------------------------\u001b[0m",
      "\u001b[1;31mKeyboardInterrupt\u001b[0m                         Traceback (most recent call last)",
      "\u001b[1;32m<ipython-input-62-e11f3fa4aab9>\u001b[0m in \u001b[0;36m<module>\u001b[1;34m\u001b[0m\n\u001b[0;32m    251\u001b[0m     \u001b[0mprint\u001b[0m\u001b[1;33m(\u001b[0m\u001b[1;34m\"MCTS200:\"\u001b[0m\u001b[1;33m,\u001b[0m\u001b[0mwinTally1\u001b[0m\u001b[1;33m[\u001b[0m\u001b[1;36m1\u001b[0m\u001b[1;33m]\u001b[0m\u001b[1;33m)\u001b[0m\u001b[1;33m\u001b[0m\u001b[1;33m\u001b[0m\u001b[0m\n\u001b[0;32m    252\u001b[0m \u001b[1;33m\u001b[0m\u001b[0m\n\u001b[1;32m--> 253\u001b[1;33m \u001b[0mmain\u001b[0m\u001b[1;33m(\u001b[0m\u001b[1;33m)\u001b[0m\u001b[1;33m\u001b[0m\u001b[1;33m\u001b[0m\u001b[0m\n\u001b[0m",
      "\u001b[1;32m<ipython-input-62-e11f3fa4aab9>\u001b[0m in \u001b[0;36mmain\u001b[1;34m()\u001b[0m\n\u001b[0;32m    223\u001b[0m             \u001b[0mprint\u001b[0m\u001b[1;33m(\u001b[0m\u001b[0mmctscurr2\u001b[0m\u001b[1;33m.\u001b[0m\u001b[0mstate\u001b[0m\u001b[1;33m)\u001b[0m\u001b[1;33m\u001b[0m\u001b[1;33m\u001b[0m\u001b[0m\n\u001b[0;32m    224\u001b[0m             \u001b[1;32mif\u001b[0m \u001b[0mturn\u001b[0m\u001b[1;33m==\u001b[0m\u001b[1;36m1\u001b[0m\u001b[1;33m:\u001b[0m\u001b[1;33m\u001b[0m\u001b[1;33m\u001b[0m\u001b[0m\n\u001b[1;32m--> 225\u001b[1;33m                 \u001b[0maction\u001b[0m \u001b[1;33m=\u001b[0m \u001b[0mmcts\u001b[0m\u001b[1;33m(\u001b[0m\u001b[0mmctscurr1\u001b[0m\u001b[1;33m,\u001b[0m \u001b[1;36m40\u001b[0m\u001b[1;33m)\u001b[0m\u001b[1;33m\u001b[0m\u001b[1;33m\u001b[0m\u001b[0m\n\u001b[0m\u001b[0;32m    226\u001b[0m                 \u001b[0mmctscurr1\u001b[0m \u001b[1;33m=\u001b[0m \u001b[0mmctscurr1\u001b[0m\u001b[1;33m.\u001b[0m\u001b[0mchildren\u001b[0m\u001b[1;33m[\u001b[0m\u001b[0maction\u001b[0m\u001b[1;33m]\u001b[0m\u001b[1;33m\u001b[0m\u001b[1;33m\u001b[0m\u001b[0m\n\u001b[0;32m    227\u001b[0m                 \u001b[1;32mif\u001b[0m \u001b[1;33m(\u001b[0m\u001b[1;32mnot\u001b[0m \u001b[0mmctscurr2\u001b[0m\u001b[1;33m.\u001b[0m\u001b[0mchildren\u001b[0m\u001b[1;33m[\u001b[0m\u001b[1;36m0\u001b[0m\u001b[1;33m]\u001b[0m\u001b[1;33m)\u001b[0m\u001b[1;33m:\u001b[0m\u001b[1;33m\u001b[0m\u001b[1;33m\u001b[0m\u001b[0m\n",
      "\u001b[1;32m<ipython-input-62-e11f3fa4aab9>\u001b[0m in \u001b[0;36mmcts\u001b[1;34m(root, n)\u001b[0m\n\u001b[0;32m    172\u001b[0m     \u001b[1;31m# n = 10\u001b[0m\u001b[1;33m\u001b[0m\u001b[1;33m\u001b[0m\u001b[1;33m\u001b[0m\u001b[0m\n\u001b[0;32m    173\u001b[0m     \u001b[1;32mfor\u001b[0m \u001b[0mi\u001b[0m \u001b[1;32min\u001b[0m \u001b[0mrange\u001b[0m\u001b[1;33m(\u001b[0m\u001b[0mn\u001b[0m\u001b[1;33m)\u001b[0m\u001b[1;33m:\u001b[0m\u001b[1;33m\u001b[0m\u001b[1;33m\u001b[0m\u001b[0m\n\u001b[1;32m--> 174\u001b[1;33m         \u001b[0mtraverse\u001b[0m\u001b[1;33m(\u001b[0m\u001b[0mroot\u001b[0m\u001b[1;33m)\u001b[0m\u001b[1;33m\u001b[0m\u001b[1;33m\u001b[0m\u001b[0m\n\u001b[0m\u001b[0;32m    175\u001b[0m \u001b[1;33m\u001b[0m\u001b[0m\n\u001b[0;32m    176\u001b[0m     \u001b[0mnewact\u001b[0m \u001b[1;33m=\u001b[0m \u001b[0mroot\u001b[0m\u001b[1;33m.\u001b[0m\u001b[0mchildren\u001b[0m\u001b[1;33m.\u001b[0m\u001b[0mindex\u001b[0m\u001b[1;33m(\u001b[0m\u001b[0mmax\u001b[0m\u001b[1;33m(\u001b[0m\u001b[0mroot\u001b[0m\u001b[1;33m.\u001b[0m\u001b[0mchildren\u001b[0m\u001b[1;33m,\u001b[0m \u001b[0mkey\u001b[0m\u001b[1;33m=\u001b[0m\u001b[1;32mlambda\u001b[0m \u001b[0mnode\u001b[0m\u001b[1;33m:\u001b[0m \u001b[0mnode\u001b[0m\u001b[1;33m.\u001b[0m\u001b[0mplays\u001b[0m\u001b[1;33m)\u001b[0m\u001b[1;33m)\u001b[0m\u001b[1;33m\u001b[0m\u001b[1;33m\u001b[0m\u001b[0m\n",
      "\u001b[1;32m<ipython-input-62-e11f3fa4aab9>\u001b[0m in \u001b[0;36mtraverse\u001b[1;34m(root)\u001b[0m\n\u001b[0;32m    160\u001b[0m             \u001b[1;32melif\u001b[0m \u001b[0mnode\u001b[0m\u001b[1;33m.\u001b[0m\u001b[0mwins\u001b[0m\u001b[1;33m/\u001b[0m\u001b[0mnode\u001b[0m\u001b[1;33m.\u001b[0m\u001b[0mplays\u001b[0m \u001b[1;33m+\u001b[0m \u001b[0mc\u001b[0m\u001b[1;33m*\u001b[0m\u001b[0msqrt\u001b[0m\u001b[1;33m(\u001b[0m\u001b[0mlog2\u001b[0m\u001b[1;33m(\u001b[0m\u001b[0mroot\u001b[0m\u001b[1;33m.\u001b[0m\u001b[0mplays\u001b[0m\u001b[1;33m/\u001b[0m\u001b[0mnode\u001b[0m\u001b[1;33m.\u001b[0m\u001b[0mplays\u001b[0m\u001b[1;33m)\u001b[0m\u001b[1;33m)\u001b[0m \u001b[1;33m>\u001b[0m \u001b[0mnextNode\u001b[0m\u001b[1;33m.\u001b[0m\u001b[0mwins\u001b[0m\u001b[1;33m/\u001b[0m\u001b[0mnextNode\u001b[0m\u001b[1;33m.\u001b[0m\u001b[0mplays\u001b[0m \u001b[1;33m+\u001b[0m \u001b[0mc\u001b[0m\u001b[1;33m*\u001b[0m\u001b[0msqrt\u001b[0m\u001b[1;33m(\u001b[0m\u001b[0mlog2\u001b[0m\u001b[1;33m(\u001b[0m\u001b[0mroot\u001b[0m\u001b[1;33m.\u001b[0m\u001b[0mplays\u001b[0m\u001b[1;33m/\u001b[0m\u001b[0mnextNode\u001b[0m\u001b[1;33m.\u001b[0m\u001b[0mplays\u001b[0m\u001b[1;33m)\u001b[0m\u001b[1;33m)\u001b[0m\u001b[1;33m:\u001b[0m\u001b[1;33m\u001b[0m\u001b[1;33m\u001b[0m\u001b[0m\n\u001b[0;32m    161\u001b[0m                 \u001b[0mnextNode\u001b[0m \u001b[1;33m=\u001b[0m \u001b[0mnode\u001b[0m\u001b[1;33m\u001b[0m\u001b[1;33m\u001b[0m\u001b[0m\n\u001b[1;32m--> 162\u001b[1;33m         \u001b[0mretval\u001b[0m \u001b[1;33m=\u001b[0m \u001b[0mtraverse\u001b[0m\u001b[1;33m(\u001b[0m\u001b[0mnextNode\u001b[0m\u001b[1;33m)\u001b[0m \u001b[1;33m*\u001b[0m \u001b[1;33m-\u001b[0m\u001b[1;36m1\u001b[0m\u001b[1;33m\u001b[0m\u001b[1;33m\u001b[0m\u001b[0m\n\u001b[0m\u001b[0;32m    163\u001b[0m     \u001b[1;31m# print(\"back to trav\")\u001b[0m\u001b[1;33m\u001b[0m\u001b[1;33m\u001b[0m\u001b[1;33m\u001b[0m\u001b[0m\n\u001b[0;32m    164\u001b[0m     \u001b[1;32mif\u001b[0m \u001b[0mretval\u001b[0m\u001b[1;33m==\u001b[0m\u001b[1;33m-\u001b[0m\u001b[1;36m1\u001b[0m\u001b[1;33m:\u001b[0m\u001b[1;33m\u001b[0m\u001b[1;33m\u001b[0m\u001b[0m\n",
      "\u001b[1;32m<ipython-input-62-e11f3fa4aab9>\u001b[0m in \u001b[0;36mtraverse\u001b[1;34m(root)\u001b[0m\n\u001b[0;32m    149\u001b[0m         \u001b[0mnextNode\u001b[0m \u001b[1;33m=\u001b[0m \u001b[0mroot\u001b[0m\u001b[1;33m.\u001b[0m\u001b[0mchildren\u001b[0m\u001b[1;33m[\u001b[0m\u001b[0mnext\u001b[0m\u001b[1;33m]\u001b[0m\u001b[1;33m\u001b[0m\u001b[1;33m\u001b[0m\u001b[0m\n\u001b[0;32m    150\u001b[0m         \u001b[1;31m# simulate it\u001b[0m\u001b[1;33m\u001b[0m\u001b[1;33m\u001b[0m\u001b[1;33m\u001b[0m\u001b[0m\n\u001b[1;32m--> 151\u001b[1;33m         \u001b[0mretval\u001b[0m \u001b[1;33m=\u001b[0m \u001b[0msimulate\u001b[0m\u001b[1;33m(\u001b[0m\u001b[0mnextNode\u001b[0m\u001b[1;33m,\u001b[0m \u001b[0mroot\u001b[0m\u001b[1;33m.\u001b[0m\u001b[0mturn\u001b[0m\u001b[1;33m^\u001b[0m\u001b[1;36m3\u001b[0m\u001b[1;33m)\u001b[0m\u001b[1;33m\u001b[0m\u001b[1;33m\u001b[0m\u001b[0m\n\u001b[0m\u001b[0;32m    152\u001b[0m     \u001b[1;32melse\u001b[0m\u001b[1;33m:\u001b[0m\u001b[1;33m\u001b[0m\u001b[1;33m\u001b[0m\u001b[0m\n\u001b[0;32m    153\u001b[0m         \u001b[1;31m# keep selecting nodes based on UCT\u001b[0m\u001b[1;33m\u001b[0m\u001b[1;33m\u001b[0m\u001b[1;33m\u001b[0m\u001b[0m\n",
      "\u001b[1;32m<ipython-input-62-e11f3fa4aab9>\u001b[0m in \u001b[0;36msimulate\u001b[1;34m(node, player)\u001b[0m\n\u001b[0;32m    114\u001b[0m         \u001b[0mnew\u001b[0m \u001b[1;33m=\u001b[0m \u001b[0mmove\u001b[0m\u001b[1;33m(\u001b[0m\u001b[0mcurr\u001b[0m\u001b[1;33m,\u001b[0m \u001b[0mact\u001b[0m\u001b[1;33m,\u001b[0m \u001b[0mturn\u001b[0m\u001b[1;33m)\u001b[0m\u001b[1;33m\u001b[0m\u001b[1;33m\u001b[0m\u001b[0m\n\u001b[0;32m    115\u001b[0m         \u001b[1;32mwhile\u001b[0m \u001b[0mnew\u001b[0m\u001b[1;33m==\u001b[0m\u001b[0mcurr\u001b[0m\u001b[1;33m:\u001b[0m\u001b[1;33m\u001b[0m\u001b[1;33m\u001b[0m\u001b[0m\n\u001b[1;32m--> 116\u001b[1;33m             \u001b[0mact\u001b[0m \u001b[1;33m=\u001b[0m \u001b[0mrandint\u001b[0m\u001b[1;33m(\u001b[0m\u001b[1;36m0\u001b[0m\u001b[1;33m,\u001b[0m\u001b[1;36m4\u001b[0m\u001b[1;33m)\u001b[0m\u001b[1;33m\u001b[0m\u001b[1;33m\u001b[0m\u001b[0m\n\u001b[0m\u001b[0;32m    117\u001b[0m             \u001b[1;31m# new = move(curr, act, turn)\u001b[0m\u001b[1;33m\u001b[0m\u001b[1;33m\u001b[0m\u001b[1;33m\u001b[0m\u001b[0m\n\u001b[0;32m    118\u001b[0m             \u001b[0mact\u001b[0m\u001b[1;33m+=\u001b[0m\u001b[1;36m1\u001b[0m\u001b[1;33m\u001b[0m\u001b[1;33m\u001b[0m\u001b[0m\n",
      "\u001b[1;32mC:\\Python\\Anaconda2019\\lib\\random.py\u001b[0m in \u001b[0;36mrandint\u001b[1;34m(self, a, b)\u001b[0m\n\u001b[0;32m    220\u001b[0m         \"\"\"\n\u001b[0;32m    221\u001b[0m \u001b[1;33m\u001b[0m\u001b[0m\n\u001b[1;32m--> 222\u001b[1;33m         \u001b[1;32mreturn\u001b[0m \u001b[0mself\u001b[0m\u001b[1;33m.\u001b[0m\u001b[0mrandrange\u001b[0m\u001b[1;33m(\u001b[0m\u001b[0ma\u001b[0m\u001b[1;33m,\u001b[0m \u001b[0mb\u001b[0m\u001b[1;33m+\u001b[0m\u001b[1;36m1\u001b[0m\u001b[1;33m)\u001b[0m\u001b[1;33m\u001b[0m\u001b[1;33m\u001b[0m\u001b[0m\n\u001b[0m\u001b[0;32m    223\u001b[0m \u001b[1;33m\u001b[0m\u001b[0m\n\u001b[0;32m    224\u001b[0m     def _randbelow(self, n, int=int, maxsize=1<<BPF, type=type,\n",
      "\u001b[1;32mC:\\Python\\Anaconda2019\\lib\\random.py\u001b[0m in \u001b[0;36mrandrange\u001b[1;34m(self, start, stop, step, _int)\u001b[0m\n\u001b[0;32m    196\u001b[0m         \u001b[0mwidth\u001b[0m \u001b[1;33m=\u001b[0m \u001b[0mistop\u001b[0m \u001b[1;33m-\u001b[0m \u001b[0mistart\u001b[0m\u001b[1;33m\u001b[0m\u001b[1;33m\u001b[0m\u001b[0m\n\u001b[0;32m    197\u001b[0m         \u001b[1;32mif\u001b[0m \u001b[0mstep\u001b[0m \u001b[1;33m==\u001b[0m \u001b[1;36m1\u001b[0m \u001b[1;32mand\u001b[0m \u001b[0mwidth\u001b[0m \u001b[1;33m>\u001b[0m \u001b[1;36m0\u001b[0m\u001b[1;33m:\u001b[0m\u001b[1;33m\u001b[0m\u001b[1;33m\u001b[0m\u001b[0m\n\u001b[1;32m--> 198\u001b[1;33m             \u001b[1;32mreturn\u001b[0m \u001b[0mistart\u001b[0m \u001b[1;33m+\u001b[0m \u001b[0mself\u001b[0m\u001b[1;33m.\u001b[0m\u001b[0m_randbelow\u001b[0m\u001b[1;33m(\u001b[0m\u001b[0mwidth\u001b[0m\u001b[1;33m)\u001b[0m\u001b[1;33m\u001b[0m\u001b[1;33m\u001b[0m\u001b[0m\n\u001b[0m\u001b[0;32m    199\u001b[0m         \u001b[1;32mif\u001b[0m \u001b[0mstep\u001b[0m \u001b[1;33m==\u001b[0m \u001b[1;36m1\u001b[0m\u001b[1;33m:\u001b[0m\u001b[1;33m\u001b[0m\u001b[1;33m\u001b[0m\u001b[0m\n\u001b[0;32m    200\u001b[0m             \u001b[1;32mraise\u001b[0m \u001b[0mValueError\u001b[0m\u001b[1;33m(\u001b[0m\u001b[1;34m\"empty range for randrange() (%d,%d, %d)\"\u001b[0m \u001b[1;33m%\u001b[0m \u001b[1;33m(\u001b[0m\u001b[0mistart\u001b[0m\u001b[1;33m,\u001b[0m \u001b[0mistop\u001b[0m\u001b[1;33m,\u001b[0m \u001b[0mwidth\u001b[0m\u001b[1;33m)\u001b[0m\u001b[1;33m)\u001b[0m\u001b[1;33m\u001b[0m\u001b[1;33m\u001b[0m\u001b[0m\n",
      "\u001b[1;32mC:\\Python\\Anaconda2019\\lib\\random.py\u001b[0m in \u001b[0;36m_randbelow\u001b[1;34m(self, n, int, maxsize, type, Method, BuiltinMethod)\u001b[0m\n\u001b[0;32m    233\u001b[0m             \u001b[0mk\u001b[0m \u001b[1;33m=\u001b[0m \u001b[0mn\u001b[0m\u001b[1;33m.\u001b[0m\u001b[0mbit_length\u001b[0m\u001b[1;33m(\u001b[0m\u001b[1;33m)\u001b[0m  \u001b[1;31m# don't use (n-1) here because n can be 1\u001b[0m\u001b[1;33m\u001b[0m\u001b[1;33m\u001b[0m\u001b[0m\n\u001b[0;32m    234\u001b[0m             \u001b[0mr\u001b[0m \u001b[1;33m=\u001b[0m \u001b[0mgetrandbits\u001b[0m\u001b[1;33m(\u001b[0m\u001b[0mk\u001b[0m\u001b[1;33m)\u001b[0m          \u001b[1;31m# 0 <= r < 2**k\u001b[0m\u001b[1;33m\u001b[0m\u001b[1;33m\u001b[0m\u001b[0m\n\u001b[1;32m--> 235\u001b[1;33m             \u001b[1;32mwhile\u001b[0m \u001b[0mr\u001b[0m \u001b[1;33m>=\u001b[0m \u001b[0mn\u001b[0m\u001b[1;33m:\u001b[0m\u001b[1;33m\u001b[0m\u001b[1;33m\u001b[0m\u001b[0m\n\u001b[0m\u001b[0;32m    236\u001b[0m                 \u001b[0mr\u001b[0m \u001b[1;33m=\u001b[0m \u001b[0mgetrandbits\u001b[0m\u001b[1;33m(\u001b[0m\u001b[0mk\u001b[0m\u001b[1;33m)\u001b[0m\u001b[1;33m\u001b[0m\u001b[1;33m\u001b[0m\u001b[0m\n\u001b[0;32m    237\u001b[0m             \u001b[1;32mreturn\u001b[0m \u001b[0mr\u001b[0m\u001b[1;33m\u001b[0m\u001b[1;33m\u001b[0m\u001b[0m\n",
      "\u001b[1;31mKeyboardInterrupt\u001b[0m: "
     ]
    }
   ],
   "source": [
    "from random import randint\n",
    "from math import sqrt, log2\n",
    "\n",
    "class GameNode:\n",
    "    def __init__(self, state, turn, parent) -> None:\n",
    "        self.state = state\n",
    "        self.turn = turn\n",
    "        self.plays = 0\n",
    "        self.wins = 0\n",
    "        self.losses = 0\n",
    "        self.parent = parent\n",
    "        self.children = [None]*5\n",
    "\n",
    "\n",
    "def move(state, col, player):\n",
    "    # print(\"move col:\", col)\n",
    "    if state[col]!='0':\n",
    "        return state\n",
    "    else:\n",
    "        temp = []\n",
    "        temp[:0] = state\n",
    "        # print(state)\n",
    "        for i in range(5,-1,-1):\n",
    "            if temp[5*i + col]=='0':\n",
    "                temp[5*i + col]=chr(player+ord('0'))\n",
    "                break\n",
    "        state=\"\"\n",
    "        for i in temp:\n",
    "            state += i\n",
    "    # print(state)\n",
    "    return state\n",
    "\n",
    "def isWin(state, col, play):\n",
    "    player = chr(play+ord('0'))\n",
    "    row=5\n",
    "    for row in range(5,-1,-1):\n",
    "        if state[5*row + col]=='0':\n",
    "            break\n",
    "    row+=1\n",
    "\n",
    "    # principal diag\n",
    "    together=1\n",
    "    if col>0:\n",
    "        i=1\n",
    "        while((i<=col and i<=row) and state[(row-i)*5 + col-i]==player):\n",
    "            together+=1\n",
    "            i+=1\n",
    "    if col<4:\n",
    "        i=1\n",
    "        while((col+i<=4 and row+i<=5) and state[(row+i)*5 + col+i]==player):\n",
    "            together+=1\n",
    "            i+=1\n",
    "    if together>=4:\n",
    "        return True\n",
    "\n",
    "    # other diagonal\n",
    "    together=1\n",
    "    if col>0:\n",
    "        i=1\n",
    "        while((i<=col and row+i<=5) and state[(row+i)*5 + col-i]==player):\n",
    "            together+=1\n",
    "            i+=1\n",
    "    if col<4:\n",
    "        i=1\n",
    "        while((col+i<=4 and i<=row) and state[(row-i)*5 + col+i]==player):\n",
    "            together+=1\n",
    "            i+=1\n",
    "    if together>=4:\n",
    "        return True\n",
    "\n",
    "    # horizontal\n",
    "    together=1\n",
    "    if col>0:\n",
    "        i=1\n",
    "        while(i<=col and state[row*5 + col-i]==player):\n",
    "            together+=1\n",
    "            i+=1\n",
    "    if col<4:\n",
    "        i=1\n",
    "        while(col+i<=4 and state[row*5 + col+i]==player):\n",
    "            together+=1\n",
    "            i+=1\n",
    "    if together>=4:\n",
    "        return True\n",
    "\n",
    "    # vertical\n",
    "    together=1\n",
    "    if row <=2:\n",
    "        i=1\n",
    "        while(row+i<=5 and state[(row+i)*5 + col]==player):\n",
    "            together+=1\n",
    "            i+=1\n",
    "    if together==4:\n",
    "        return True\n",
    "    \n",
    "    return False\n",
    "\n",
    "def simulate(node, player):\n",
    "    # print(\"sim: player =\", player)\n",
    "    curr = node.state\n",
    "    highest = [0,0,0,0,0]\n",
    "    for i in range(5):\n",
    "        for j in range(5,-1,-1):\n",
    "            if curr[j*5 + i]=='0':\n",
    "                highest[i]=j\n",
    "                break\n",
    "    if max(highest)==0:\n",
    "        return 0\n",
    "\n",
    "    turn = player\n",
    "    new = curr\n",
    "    while True:\n",
    "        act = randint(0,4)\n",
    "        new = move(curr, act, turn)\n",
    "        while new==curr:\n",
    "            act = randint(0,4)\n",
    "            # new = move(curr, act, turn)\n",
    "            act+=1\n",
    "        highest[act]-=1\n",
    "        if isWin(new, act, turn):\n",
    "            if turn==player:\n",
    "                # print(\"retval=1\")\n",
    "                return 1\n",
    "            else:\n",
    "                # print(\"retval=-1\")\n",
    "                return -1\n",
    "        elif max(highest)==0:\n",
    "            break\n",
    "        turn = turn^3\n",
    "        curr=new\n",
    "    # print(\"retval=0\")\n",
    "    return 0\n",
    "        \n",
    "\n",
    "def traverse(root):\n",
    "    retval=0\n",
    "    # exploration factor\n",
    "    c = 1.1\n",
    "    # print(root.state)\n",
    "    \n",
    "    if (not root.children[0]):\n",
    "        # create 5 empty nodes\n",
    "        # print(\"extension\")\n",
    "        for i in range(5):\n",
    "            root.children[i] = GameNode(move(state=root.state, col=i, player=root.turn), root.turn ^ 3, root)\n",
    "        # choose one of them at random\n",
    "        next = randint(0,4)\n",
    "        # print(\"next:\", next)\n",
    "        nextNode = root.children[next]\n",
    "        # simulate it\n",
    "        retval = simulate(nextNode, root.turn^3)\n",
    "    else:\n",
    "        # keep selecting nodes based on UCT\n",
    "        nextNode = root.children[0]\n",
    "        for node in root.children:\n",
    "            # UCB(node) = wins/plays + C*sqrt(log2(Parent(node))/plays)\n",
    "            if node.plays == 0:\n",
    "                nextNode = node\n",
    "                break\n",
    "            elif node.wins/node.plays + c*sqrt(log2(root.plays/node.plays)) > nextNode.wins/nextNode.plays + c*sqrt(log2(root.plays/nextNode.plays)):\n",
    "                nextNode = node\n",
    "        retval = traverse(nextNode) * -1\n",
    "    # print(\"back to trav\")\n",
    "    if retval==-1:\n",
    "        root.wins += 1\n",
    "    elif retval==1:\n",
    "        root.losses += 1\n",
    "    root.plays+=1\n",
    "    return -retval\n",
    "\n",
    "def mcts(root, n):\n",
    "    # n = 10\n",
    "    for i in range(n):\n",
    "        traverse(root)\n",
    "    \n",
    "    newact = root.children.index(max(root.children, key=lambda node: node.plays))\n",
    "    return newact\n",
    "\n",
    "def qlearning(currstate):\n",
    "    # choose a state either exploit or explore\n",
    "    lr=0.8\n",
    "    gamma = 1.5\n",
    "    reward = -10\n",
    "    prob = randint(0,9)\n",
    "    newact=0\n",
    "    if prob==1:\n",
    "        newact = randint(0,4)\n",
    "    else:\n",
    "        newact = qtable[currstate].index(max(qtable[currstate]))\n",
    "\n",
    "    # newstate = self.encoder()\n",
    "    newstate = move(state=currstate, col=newact, player=2)\n",
    "\n",
    "    # if state to new action doesn't exist make a new row, assign all q value in row to 5\n",
    "    if newstate not in qtable:\n",
    "        qtable[newstate] = [5,5,5,5,5]\n",
    "    else:\n",
    "        qtable[currstate][newact] += lr * (reward + gamma * max(qtable[newstate]) - qtable[currstate][newact])\n",
    "    \n",
    "    return newact\n",
    "\n",
    "def main():\n",
    "    # TODO: make sure game does not stall\n",
    "    turn = 1\n",
    "    action = 0\n",
    "    global mctsroot1\n",
    "    global mctsroot2 \n",
    "    mctsroot1 = GameNode(\"000000000000000000000000000000\", 1, None)\n",
    "    mctsroot2 = GameNode(\"000000000000000000000000000000\", 2, None)\n",
    "    global mctscurr1\n",
    "    global mctscurr2\n",
    "    mctscurr1 = mctsroot1\n",
    "    mctscurr2 = mctsroot2\n",
    "    winTally1 = [0,0]\n",
    "    # winTally2 = [0,0]\n",
    "\n",
    "    global qtable\n",
    "    qtable = {\"000000000000000000000000000000\": [1,1,1,1,1]}\n",
    "\n",
    "    for j in range(10):\n",
    "        while True:\n",
    "            print()\n",
    "            print(mctscurr2.state)\n",
    "            if turn==1:\n",
    "                action = mcts(mctscurr1, 40)\n",
    "                mctscurr1 = mctscurr1.children[action]\n",
    "                if (not mctscurr2.children[0]):\n",
    "                    # create 5 empty nodes\n",
    "                    for i in range(5):\n",
    "                        mctscurr2.children[i] = GameNode(move(state=mctscurr2.state, col=i, player=mctscurr2.turn), mctscurr2.turn ^ 3, mctscurr2)\n",
    "                mctscurr2 = mctscurr2.children[action]\n",
    "            else:\n",
    "                action = mcts(mctscurr2, 200)\n",
    "                mctscurr2 = mctscurr2.children[action]\n",
    "                if (not mctscurr1.children[0]):\n",
    "                    # create 5 empty nodes\n",
    "                    for i in range(5):\n",
    "                        mctscurr1.children[i] = GameNode(move(state=mctscurr1.state, col=i, player=mctscurr1.turn), mctscurr1.turn ^ 3, mctscurr1)\n",
    "                mctscurr1 = mctscurr1.children[action]\n",
    "            if isWin(mctscurr1.state, action, turn):\n",
    "                if turn==1:\n",
    "                    print(\"MCTS40 has won\")\n",
    "                    winTally1[0]+=1\n",
    "                else:\n",
    "                    print(\"MCTS200 has won\")\n",
    "                    winTally1[1]+=1\n",
    "                break\n",
    "            turn = turn^3          \n",
    "        print(\"game over\")\n",
    "    print(\"MCTS40:\",winTally1[0])\n",
    "    print(\"MCTS200:\",winTally1[1])\n",
    "\n",
    "main()"
   ]
  },
  {
   "cell_type": "code",
   "execution_count": 54,
   "metadata": {},
   "outputs": [],
   "source": [
    "def isWin(state, col, player):\n",
    "    row=5\n",
    "    for row in range(6):\n",
    "        if state[5*(5-row) + col]=='0':\n",
    "            break\n",
    "    row-=1\n",
    "    print(\"row:\",row)\n",
    "\n",
    "    # principal diag\n",
    "    together=1\n",
    "    if col>0:\n",
    "        i=1\n",
    "        while((i<=col and i<=row) and state[(row-i)*5 + col-i]==player):\n",
    "            together+=1\n",
    "            i+=1\n",
    "    if col<4:\n",
    "        i=1\n",
    "        while((col+i<=4 and row+i<=5) and state[(row+i)*5 + col+i]==player):\n",
    "            together+=1\n",
    "            i+=1\n",
    "    if together>=4:\n",
    "        return True\n",
    "\n",
    "    # other diagonal\n",
    "    together=1\n",
    "    if col>0:\n",
    "        i=1\n",
    "        while((i<=col and row+i<=5) and state[(row+i)*5 + col-i]==player):\n",
    "            together+=1\n",
    "            i+=1\n",
    "    if col<4:\n",
    "        i=1\n",
    "        while((col+i<=4 and i<=row) and state[(row-i)*5 + col+i]==player):\n",
    "            together+=1\n",
    "            i+=1\n",
    "    if together>=4:\n",
    "        return True\n",
    "\n",
    "    # horizontal\n",
    "    together=1\n",
    "    if col>0:\n",
    "        i=1\n",
    "        while(i<=col and state[row*5 + col-i]==player):\n",
    "            together+=1\n",
    "            i+=1\n",
    "    if col<4:\n",
    "        i=1\n",
    "        while(col+i<=4 and state[row*5 + col+i]==player):\n",
    "            together+=1\n",
    "            i+=1\n",
    "    if together>=4:\n",
    "        return True\n",
    "\n",
    "    # vertical\n",
    "    together=1\n",
    "    if row <=2:\n",
    "        i=1\n",
    "        while(row+i<=5 and state[(row+i)*5 + col]==player):\n",
    "            together+=1\n",
    "            i+=1\n",
    "    if together==4:\n",
    "        return True\n",
    "    \n",
    "    return False\n",
    "        "
   ]
  },
  {
   "cell_type": "code",
   "execution_count": 55,
   "metadata": {},
   "outputs": [
    {
     "name": "stdout",
     "output_type": "stream",
     "text": [
      "row: 3\n",
      "False\n"
     ]
    }
   ],
   "source": [
    "print(isWin(\"00002 10002 22102 11102 22111 11122\", 2, 1))"
   ]
  },
  {
   "cell_type": "code",
   "execution_count": 3,
   "metadata": {},
   "outputs": [
    {
     "name": "stdout",
     "output_type": "stream",
     "text": [
      "Board:\n",
      "0, 2, 0, 0, 0\n",
      "0, 1, 0, 0, 0\n",
      "0, 2, 0, 0, 2\n",
      "0, 1, 1, 0, 2\n",
      "0, 2, 1, 2, 2\n",
      "0, 2, 2, 1, 1\n"
     ]
    }
   ],
   "source": [
    "def printState(state):\n",
    "    print(\"Board:\")\n",
    "    for i in range(6):\n",
    "        for j in range (4):\n",
    "            print(state[i*5 + j], end=\", \")\n",
    "        print (state[i*5 + 4])\n",
    "        # print('\\n', end=\"\")\n",
    "    \n",
    "printState(\"020000100002002011020212202211\")"
   ]
  },
  {
   "cell_type": "code",
   "execution_count": null,
   "metadata": {},
   "outputs": [],
   "source": [
    "newboard = [[0,0,0,0,0],[0,0,0,0,0],[0,0,0,0,0],[0,0,0,0,0],[0,0,0,0,0],[0,0,0,0,0]]\n",
    "print(newboard)\n",
    "\n",
    "print(len(newboard))\n",
    "for i in range(6):\n",
    "    print (newboard[i])"
   ]
  },
  {
   "cell_type": "code",
   "execution_count": 26,
   "metadata": {},
   "outputs": [],
   "source": [
    "def move(state, col, player):\n",
    "        if state[col]!='0':\n",
    "            print(\"here\")\n",
    "            return state\n",
    "        else:\n",
    "            for i in range(5,-1,-1):\n",
    "                print(i)\n",
    "                if state[5*i + col]=='0':\n",
    "                    state[5*i + col]=chr(player+ord('0'))\n",
    "                    break\n",
    "        return state"
   ]
  },
  {
   "cell_type": "code",
   "execution_count": 25,
   "metadata": {},
   "outputs": [
    {
     "name": "stdout",
     "output_type": "stream",
     "text": [
      "5\n",
      "['0', '0', '0', '0', '0', '0', '0', '0', '0', '0', '0', '0', '0', '0', '0', '0', '0', '0', '0', '0', '0', '0', '0', '0', '0', '0', '0', '1', '0', '0']\n"
     ]
    }
   ],
   "source": [
    "cs = ['0']*30\n",
    "csn = move(cs, 2, 1)\n",
    "\n",
    "print(csn)"
   ]
  },
  {
   "cell_type": "code",
   "execution_count": 39,
   "metadata": {},
   "outputs": [],
   "source": [
    "def mover(state, col, player):\n",
    "        if state[col]!='0':\n",
    "            print(\"here\")\n",
    "            return state\n",
    "        else:\n",
    "            temp = []\n",
    "            temp[:0] = state\n",
    "            for i in range(5,-1,-1):\n",
    "                print(i)\n",
    "                # print(temp)\n",
    "                if temp[5*i + col]=='0':\n",
    "                    temp[5*i + col]=chr(player+ord('0'))\n",
    "                    break\n",
    "                print(temp)\n",
    "            state=\"\"\n",
    "            for i in temp:\n",
    "                state += i\n",
    "        return state"
   ]
  },
  {
   "cell_type": "code",
   "execution_count": 40,
   "metadata": {},
   "outputs": [
    {
     "name": "stdout",
     "output_type": "stream",
     "text": [
      "5\n",
      "000000000000000000000000000001\n"
     ]
    }
   ],
   "source": [
    "cs1 = \"000000000000000000000000000000\"\n",
    "csn1 = mover(cs1, 4, 1)\n",
    "\n",
    "print(csn1)"
   ]
  },
  {
   "cell_type": "code",
   "execution_count": 61,
   "metadata": {},
   "outputs": [
    {
     "name": "stdout",
     "output_type": "stream",
     "text": [
      "3\n"
     ]
    }
   ],
   "source": [
    "sq = {0: 2, 1:5, 2:4, 3:-8, 4:-1,}\n",
    "maxsq = max(sq, key=lambda i: sq.get(i)*sq.get(i))\n",
    "print(maxsq)\n",
    "# print(sq.index(maxsq))"
   ]
  },
  {
   "cell_type": "code",
   "execution_count": null,
   "metadata": {},
   "outputs": [],
   "source": [
    "# lr = 0.05, 0.1, 0.15, 0.2, 0.25, 0.5\n",
    "# gamma = 0.2, 0.4, 0.6, 0.8, 1"
   ]
  },
  {
   "cell_type": "code",
   "execution_count": null,
   "metadata": {},
   "outputs": [],
   "source": [
    "# lr = 0.1\n",
    "# gamma = 0.2: 842 1158\n",
    "# gamma = 0.2: 128 1872\n",
    "[40, 44, 58, 54, 48, 42, 28, 44, 34, 40, 36, 48, 46, 44, 54, 40, 42, 44, 44, 38, 44, 54, 38, 56, 38, 46, 30, 30, 42, 50, 46, 34, 46, 40, 42, 48, 52, 40, 36, 44]\n",
    "[54, 68, 94, 76, 96, 100, 100, 96, 100, 100, 88, 100, 100, 100, 100, 100, 100, 100, 100, 100]\n",
    "# gamma = 0.4: 941 1059\n",
    "# gamma = 0.4: 132 1868\n",
    "[42, 42, 50, 42, 42, 52, 44, 54, 40, 52, 48, 34, 42, 32, 42, 44, 48, 44, 38, 44, 34, 42, 48, 42, 42, 32, 38, 38, 54, 48, 32, 46, 34, 40, 44, 34, 44, 46, 44, 48]\n",
    "[66, 64, 68, 70, 100, 100, 100, 100, 100, 100, 100, 100, 100, 100, 100, 100, 100, 100, 100, 100]\n",
    "# gamma = 0.6: 947 1053\n",
    "# gamma = 0.6: 556 1544\n",
    "[58, 72, 80, 80, 80, 80, 80, 80, 80, 80, 70, 72, 70, 80, 80, 80, 80, 80, 80, 80, 80, 80, 80, 80, 80, 80, 64, 80, 80, 80, 80, 80, 80, 80, 80, 80, 80, 80, 80, 80]\n",
    "[0, 2, 34, 40, 48, 46, 100, 74, 100, 100, 100, 100, 100, 100, 100, 100, 100, 100, 100, 100]\n",
    "# gamma = 0.8: 112 1888\n",
    "[64, 54, 72, 98, 100, 100, 100, 100, 100, 100, 100, 100, 100, 100, 100, 100, 100, 100, 100, 100]\n",
    "# gamma = 1.0: 212 1788\n",
    "[30, 54, 48, 68, 94, 98, 100, 100, 100, 100, 96, 100, 100, 100, 100, 100, 100, 100, 100, 100]"
   ]
  },
  {
   "cell_type": "code",
   "execution_count": 4,
   "metadata": {},
   "outputs": [],
   "source": [
    "import matplotlib.pyplot as plt"
   ]
  },
  {
   "cell_type": "code",
   "execution_count": 25,
   "metadata": {},
   "outputs": [
    {
     "name": "stdout",
     "output_type": "stream",
     "text": [
      "[52.5, 52.5, 62.5, 52.5, 52.5, 65.0, 55.0, 67.5, 50.0, 65.0, 60.0, 42.5, 52.5, 40.0, 52.5, 55.0, 60.0, 55.0, 47.5, 55.0, 42.5, 52.5, 60.0, 52.5, 52.5, 40.0, 47.5, 47.5, 67.5, 60.0, 40.0, 57.5, 42.5, 50.0, 55.0, 42.5, 55.0, 57.5, 55.0, 60.0]\n",
      "[72.5, 90.0, 100.0, 100.0, 100.0, 100.0, 100.0, 100.0, 100.0, 100.0, 87.5, 90.0, 87.5, 100.0, 100.0, 100.0, 100.0, 100.0, 100.0, 100.0, 100.0, 100.0, 100.0, 100.0, 100.0, 100.0, 80.0, 100.0, 100.0, 100.0, 100.0, 100.0, 100.0, 100.0, 100.0, 100.0, 100.0, 100.0, 100.0, 100.0]\n"
     ]
    }
   ],
   "source": [
    "l1 = [42, 42, 50, 42, 42, 52, 44, 54, 40, 52, 48, 34, 42, 32, 42, 44, 48, 44, 38, 44, 34, 42, 48, 42, 42, 32, 38, 38, 54, 48, 32, 46, 34, 40, 44, 34, 44, 46, 44, 48]\n",
    "l2 = [58, 72, 80, 80, 80, 80, 80, 80, 80, 80, 70, 72, 70, 80, 80, 80, 80, 80, 80, 80, 80, 80, 80, 80, 80, 80, 64, 80, 80, 80, 80, 80, 80, 80, 80, 80, 80, 80, 80, 80]\n",
    "for i in range(len(l1)):\n",
    "    l1[i]*= 1.25\n",
    "    l2[i]*= 1.25\n",
    "print(l1)\n",
    "print(l2)"
   ]
  },
  {
   "cell_type": "code",
   "execution_count": 28,
   "metadata": {},
   "outputs": [
    {
     "data": {
      "text/plain": [
       "<function matplotlib.pyplot.show(close=None, block=None)>"
      ]
     },
     "execution_count": 28,
     "metadata": {},
     "output_type": "execute_result"
    },
    {
     "data": {
      "image/png": "[encoded data removed]",
      "text/plain": [
       "<Figure size 432x288 with 1 Axes>"
      ]
     },
     "metadata": {
      "needs_background": "light"
     },
     "output_type": "display_data"
    }
   ],
   "source": [
    "plt.plot(l1, label = \"Initital value = 5\")\n",
    "plt.plot(l2, label = \"Initital value = 1\")\n",
    "plt.legend()\n",
    "plt.xlabel=None\n",
    "figure = plt.gca()\n",
    "\n",
    "figure.axes.xaxis.set_ticklabels([])\n",
    "\n",
    "plt.show"
   ]
  },
  {
   "cell_type": "code",
   "execution_count": null,
   "metadata": {},
   "outputs": [],
   "source": []
  }
 ],
 "metadata": {
  "interpreter": {
   "hash": "133abbd413a08539cb84410b16d3bd8eb8e595d6e32d5a9fb09d7e9dbec879ef"
  },
  "kernelspec": {
   "display_name": "Python 3.7.3 64-bit ('base': conda)",
   "name": "python3"
  },
  "language_info": {
   "codemirror_mode": {
    "name": "ipython",
    "version": 3
   },
   "file_extension": ".py",
   "mimetype": "text/x-python",
   "name": "python",
   "nbconvert_exporter": "python",
   "pygments_lexer": "ipython3",
   "version": "3.7.3"
  },
  "orig_nbformat": 4
 },
 "nbformat": 4,
 "nbformat_minor": 2
}
